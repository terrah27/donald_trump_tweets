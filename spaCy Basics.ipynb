{
 "cells": [
  {
   "cell_type": "markdown",
   "metadata": {},
   "source": [
    "# spaCy Basics\n",
    "### A guide for getting started with spaCy using a Donald Trump Tweet Dataset.\n",
    "\n",
    "spaCy is free, open-source library for advanced Natural Language Processing (NLP) in Python.\n",
    "\n",
    "We are using a dataset of all Donald Trump's 2018 tweets."
   ]
  },
  {
   "cell_type": "code",
   "execution_count": 1,
   "metadata": {},
   "outputs": [],
   "source": [
    "import numpy as np\n",
    "import pandas as pd\n",
    "\n",
    "import matplotlib.pyplot as plt\n",
    "import seaborn as sns\n",
    "\n",
    "import spacy"
   ]
  },
  {
   "cell_type": "code",
   "execution_count": 2,
   "metadata": {},
   "outputs": [],
   "source": [
    "# setting up default plotting parameters\n",
    "%matplotlib inline\n",
    "\n",
    "plt.rcParams['figure.figsize'] = [20.0, 7.0]\n",
    "plt.rcParams.update({'font.size': 22,})\n",
    "\n",
    "sns.set_palette('viridis')\n",
    "sns.set_style('white')\n",
    "sns.set_context('talk', font_scale=0.8)"
   ]
  },
  {
   "cell_type": "code",
   "execution_count": 3,
   "metadata": {},
   "outputs": [
    {
     "name": "stdout",
     "output_type": "stream",
     "text": [
      "(3510, 8)\n"
     ]
    },
    {
     "data": {
      "text/html": [
       "<div>\n",
       "<style scoped>\n",
       "    .dataframe tbody tr th:only-of-type {\n",
       "        vertical-align: middle;\n",
       "    }\n",
       "\n",
       "    .dataframe tbody tr th {\n",
       "        vertical-align: top;\n",
       "    }\n",
       "\n",
       "    .dataframe thead th {\n",
       "        text-align: right;\n",
       "    }\n",
       "</style>\n",
       "<table border=\"1\" class=\"dataframe\">\n",
       "  <thead>\n",
       "    <tr style=\"text-align: right;\">\n",
       "      <th></th>\n",
       "      <th>source</th>\n",
       "      <th>id_str</th>\n",
       "      <th>text</th>\n",
       "      <th>created_at</th>\n",
       "      <th>retweet_count</th>\n",
       "      <th>in_reply_to_user_id_str</th>\n",
       "      <th>favorite_count</th>\n",
       "      <th>is_retweet</th>\n",
       "    </tr>\n",
       "  </thead>\n",
       "  <tbody>\n",
       "    <tr>\n",
       "      <th>0</th>\n",
       "      <td>Twitter for iPhone</td>\n",
       "      <td>1079888205351145472</td>\n",
       "      <td>HAPPY NEW YEAR! https://t.co/bHoPDPQ7G6</td>\n",
       "      <td>2018-12-31 23:53:06+00:00</td>\n",
       "      <td>33548</td>\n",
       "      <td>NaN</td>\n",
       "      <td>136012</td>\n",
       "      <td>False</td>\n",
       "    </tr>\n",
       "    <tr>\n",
       "      <th>1</th>\n",
       "      <td>Twitter for iPhone</td>\n",
       "      <td>1079830268708556800</td>\n",
       "      <td>....Senator Schumer, more than a year longer t...</td>\n",
       "      <td>2018-12-31 20:02:52+00:00</td>\n",
       "      <td>17456</td>\n",
       "      <td>25073877.0</td>\n",
       "      <td>65069</td>\n",
       "      <td>False</td>\n",
       "    </tr>\n",
       "    <tr>\n",
       "      <th>2</th>\n",
       "      <td>Twitter for iPhone</td>\n",
       "      <td>1079830267274108928</td>\n",
       "      <td>Heads of countries are calling wanting to know...</td>\n",
       "      <td>2018-12-31 20:02:52+00:00</td>\n",
       "      <td>21030</td>\n",
       "      <td>NaN</td>\n",
       "      <td>76721</td>\n",
       "      <td>False</td>\n",
       "    </tr>\n",
       "    <tr>\n",
       "      <th>3</th>\n",
       "      <td>Twitter for iPhone</td>\n",
       "      <td>1079763923845419008</td>\n",
       "      <td>It’s incredible how Democrats can all use thei...</td>\n",
       "      <td>2018-12-31 15:39:15+00:00</td>\n",
       "      <td>29610</td>\n",
       "      <td>NaN</td>\n",
       "      <td>127485</td>\n",
       "      <td>False</td>\n",
       "    </tr>\n",
       "    <tr>\n",
       "      <th>4</th>\n",
       "      <td>Twitter for iPhone</td>\n",
       "      <td>1079763419908243456</td>\n",
       "      <td>I’m in the Oval Office. Democrats, come back f...</td>\n",
       "      <td>2018-12-31 15:37:14+00:00</td>\n",
       "      <td>30957</td>\n",
       "      <td>NaN</td>\n",
       "      <td>132439</td>\n",
       "      <td>False</td>\n",
       "    </tr>\n",
       "  </tbody>\n",
       "</table>\n",
       "</div>"
      ],
      "text/plain": [
       "               source               id_str  \\\n",
       "0  Twitter for iPhone  1079888205351145472   \n",
       "1  Twitter for iPhone  1079830268708556800   \n",
       "2  Twitter for iPhone  1079830267274108928   \n",
       "3  Twitter for iPhone  1079763923845419008   \n",
       "4  Twitter for iPhone  1079763419908243456   \n",
       "\n",
       "                                                text  \\\n",
       "0            HAPPY NEW YEAR! https://t.co/bHoPDPQ7G6   \n",
       "1  ....Senator Schumer, more than a year longer t...   \n",
       "2  Heads of countries are calling wanting to know...   \n",
       "3  It’s incredible how Democrats can all use thei...   \n",
       "4  I’m in the Oval Office. Democrats, come back f...   \n",
       "\n",
       "                 created_at  retweet_count  in_reply_to_user_id_str  \\\n",
       "0 2018-12-31 23:53:06+00:00          33548                      NaN   \n",
       "1 2018-12-31 20:02:52+00:00          17456               25073877.0   \n",
       "2 2018-12-31 20:02:52+00:00          21030                      NaN   \n",
       "3 2018-12-31 15:39:15+00:00          29610                      NaN   \n",
       "4 2018-12-31 15:37:14+00:00          30957                      NaN   \n",
       "\n",
       "   favorite_count  is_retweet  \n",
       "0          136012       False  \n",
       "1           65069       False  \n",
       "2           76721       False  \n",
       "3          127485       False  \n",
       "4          132439       False  "
      ]
     },
     "execution_count": 3,
     "metadata": {},
     "output_type": "execute_result"
    }
   ],
   "source": [
    "df = pd.read_json('condensed_2018.json')\n",
    "\n",
    "print (df.shape)\n",
    "df.head()"
   ]
  },
  {
   "cell_type": "markdown",
   "metadata": {},
   "source": [
    "### Tokenization"
   ]
  },
  {
   "cell_type": "code",
   "execution_count": 4,
   "metadata": {},
   "outputs": [
    {
     "data": {
      "text/html": [
       "<div>\n",
       "<style scoped>\n",
       "    .dataframe tbody tr th:only-of-type {\n",
       "        vertical-align: middle;\n",
       "    }\n",
       "\n",
       "    .dataframe tbody tr th {\n",
       "        vertical-align: top;\n",
       "    }\n",
       "\n",
       "    .dataframe thead th {\n",
       "        text-align: right;\n",
       "    }\n",
       "</style>\n",
       "<table border=\"1\" class=\"dataframe\">\n",
       "  <thead>\n",
       "    <tr style=\"text-align: right;\">\n",
       "      <th></th>\n",
       "      <th>source</th>\n",
       "      <th>id_str</th>\n",
       "      <th>text</th>\n",
       "      <th>created_at</th>\n",
       "      <th>retweet_count</th>\n",
       "      <th>in_reply_to_user_id_str</th>\n",
       "      <th>favorite_count</th>\n",
       "      <th>is_retweet</th>\n",
       "      <th>doc</th>\n",
       "    </tr>\n",
       "  </thead>\n",
       "  <tbody>\n",
       "    <tr>\n",
       "      <th>437</th>\n",
       "      <td>Twitter for iPhone</td>\n",
       "      <td>1062796884648120320</td>\n",
       "      <td>Just spoke to Governor Jerry Brown to let him ...</td>\n",
       "      <td>2018-11-14 19:58:17+00:00</td>\n",
       "      <td>16962</td>\n",
       "      <td>NaN</td>\n",
       "      <td>100277</td>\n",
       "      <td>False</td>\n",
       "      <td>(Just, spoke, to, Governor, Jerry, Brown, to, ...</td>\n",
       "    </tr>\n",
       "    <tr>\n",
       "      <th>154</th>\n",
       "      <td>Twitter for iPhone</td>\n",
       "      <td>1074401228224950272</td>\n",
       "      <td>Required television watching is last weeks @ma...</td>\n",
       "      <td>2018-12-16 20:29:48+00:00</td>\n",
       "      <td>14659</td>\n",
       "      <td>NaN</td>\n",
       "      <td>56633</td>\n",
       "      <td>False</td>\n",
       "      <td>(Required, television, watching, is, last, wee...</td>\n",
       "    </tr>\n",
       "    <tr>\n",
       "      <th>1242</th>\n",
       "      <td>Twitter for iPhone</td>\n",
       "      <td>1039877857441402880</td>\n",
       "      <td>“I can say, as it relates to the Senate Intell...</td>\n",
       "      <td>2018-09-12 14:06:15+00:00</td>\n",
       "      <td>17728</td>\n",
       "      <td>NaN</td>\n",
       "      <td>71348</td>\n",
       "      <td>False</td>\n",
       "      <td>(“, I, can, say, ,, as, it, relates, to, the, ...</td>\n",
       "    </tr>\n",
       "  </tbody>\n",
       "</table>\n",
       "</div>"
      ],
      "text/plain": [
       "                  source               id_str  \\\n",
       "437   Twitter for iPhone  1062796884648120320   \n",
       "154   Twitter for iPhone  1074401228224950272   \n",
       "1242  Twitter for iPhone  1039877857441402880   \n",
       "\n",
       "                                                   text  \\\n",
       "437   Just spoke to Governor Jerry Brown to let him ...   \n",
       "154   Required television watching is last weeks @ma...   \n",
       "1242  “I can say, as it relates to the Senate Intell...   \n",
       "\n",
       "                    created_at  retweet_count  in_reply_to_user_id_str  \\\n",
       "437  2018-11-14 19:58:17+00:00          16962                      NaN   \n",
       "154  2018-12-16 20:29:48+00:00          14659                      NaN   \n",
       "1242 2018-09-12 14:06:15+00:00          17728                      NaN   \n",
       "\n",
       "      favorite_count  is_retweet  \\\n",
       "437           100277       False   \n",
       "154            56633       False   \n",
       "1242           71348       False   \n",
       "\n",
       "                                                    doc  \n",
       "437   (Just, spoke, to, Governor, Jerry, Brown, to, ...  \n",
       "154   (Required, television, watching, is, last, wee...  \n",
       "1242  (“, I, can, say, ,, as, it, relates, to, the, ...  "
      ]
     },
     "execution_count": 4,
     "metadata": {},
     "output_type": "execute_result"
    }
   ],
   "source": [
    "# Load model to return language object\n",
    "nlp = spacy.load('en')\n",
    "\n",
    "# Calling nlp on our tweet texts to return a processed Doc for each\n",
    "df['doc'] = [nlp(text) for text in df.text]\n",
    "df.sample(3)"
   ]
  },
  {
   "cell_type": "code",
   "execution_count": 5,
   "metadata": {},
   "outputs": [
    {
     "data": {
      "text/html": [
       "<div>\n",
       "<style scoped>\n",
       "    .dataframe tbody tr th:only-of-type {\n",
       "        vertical-align: middle;\n",
       "    }\n",
       "\n",
       "    .dataframe tbody tr th {\n",
       "        vertical-align: top;\n",
       "    }\n",
       "\n",
       "    .dataframe thead th {\n",
       "        text-align: right;\n",
       "    }\n",
       "</style>\n",
       "<table border=\"1\" class=\"dataframe\">\n",
       "  <thead>\n",
       "    <tr style=\"text-align: right;\">\n",
       "      <th></th>\n",
       "      <th>source</th>\n",
       "      <th>id_str</th>\n",
       "      <th>text</th>\n",
       "      <th>created_at</th>\n",
       "      <th>retweet_count</th>\n",
       "      <th>in_reply_to_user_id_str</th>\n",
       "      <th>favorite_count</th>\n",
       "      <th>is_retweet</th>\n",
       "      <th>doc</th>\n",
       "      <th>num_tokens</th>\n",
       "    </tr>\n",
       "  </thead>\n",
       "  <tbody>\n",
       "    <tr>\n",
       "      <th>417</th>\n",
       "      <td>Twitter for iPhone</td>\n",
       "      <td>1063631319739953152</td>\n",
       "      <td>Thank you @JerryBrownGov. Look forward to join...</td>\n",
       "      <td>2018-11-17 03:14:02+00:00</td>\n",
       "      <td>10646</td>\n",
       "      <td>NaN</td>\n",
       "      <td>49420</td>\n",
       "      <td>False</td>\n",
       "      <td>(Thank, you, @JerryBrownGov, ., Look, forward,...</td>\n",
       "      <td>21</td>\n",
       "    </tr>\n",
       "    <tr>\n",
       "      <th>1564</th>\n",
       "      <td>Twitter for iPhone</td>\n",
       "      <td>1030777074959757312</td>\n",
       "      <td>Social Media is totally discriminating against...</td>\n",
       "      <td>2018-08-18 11:23:00+00:00</td>\n",
       "      <td>36914</td>\n",
       "      <td>NaN</td>\n",
       "      <td>114344</td>\n",
       "      <td>False</td>\n",
       "      <td>(Social, Media, is, totally, discriminating, a...</td>\n",
       "      <td>50</td>\n",
       "    </tr>\n",
       "    <tr>\n",
       "      <th>521</th>\n",
       "      <td>Twitter for iPhone</td>\n",
       "      <td>1059843699298000896</td>\n",
       "      <td>RT @realDonaldTrump: Another fantastic #MAGARa...</td>\n",
       "      <td>2018-11-06 16:23:23+00:00</td>\n",
       "      <td>14055</td>\n",
       "      <td>NaN</td>\n",
       "      <td>0</td>\n",
       "      <td>True</td>\n",
       "      <td>(RT, @realDonaldTrump, :, Another, fantastic, ...</td>\n",
       "      <td>28</td>\n",
       "    </tr>\n",
       "  </tbody>\n",
       "</table>\n",
       "</div>"
      ],
      "text/plain": [
       "                  source               id_str  \\\n",
       "417   Twitter for iPhone  1063631319739953152   \n",
       "1564  Twitter for iPhone  1030777074959757312   \n",
       "521   Twitter for iPhone  1059843699298000896   \n",
       "\n",
       "                                                   text  \\\n",
       "417   Thank you @JerryBrownGov. Look forward to join...   \n",
       "1564  Social Media is totally discriminating against...   \n",
       "521   RT @realDonaldTrump: Another fantastic #MAGARa...   \n",
       "\n",
       "                    created_at  retweet_count  in_reply_to_user_id_str  \\\n",
       "417  2018-11-17 03:14:02+00:00          10646                      NaN   \n",
       "1564 2018-08-18 11:23:00+00:00          36914                      NaN   \n",
       "521  2018-11-06 16:23:23+00:00          14055                      NaN   \n",
       "\n",
       "      favorite_count  is_retweet  \\\n",
       "417            49420       False   \n",
       "1564          114344       False   \n",
       "521                0        True   \n",
       "\n",
       "                                                    doc  num_tokens  \n",
       "417   (Thank, you, @JerryBrownGov, ., Look, forward,...          21  \n",
       "1564  (Social, Media, is, totally, discriminating, a...          50  \n",
       "521   (RT, @realDonaldTrump, :, Another, fantastic, ...          28  "
      ]
     },
     "execution_count": 5,
     "metadata": {},
     "output_type": "execute_result"
    }
   ],
   "source": [
    "# Sum the number of tokens in each Doc\n",
    "df['num_tokens'] = [len(token) for token in df.doc]\n",
    "df.sample(3)"
   ]
  },
  {
   "cell_type": "code",
   "execution_count": 6,
   "metadata": {},
   "outputs": [
    {
     "name": "stderr",
     "output_type": "stream",
     "text": [
      "/Users/tara/anaconda3/lib/python3.6/site-packages/scipy/stats/stats.py:1713: FutureWarning: Using a non-tuple sequence for multidimensional indexing is deprecated; use `arr[tuple(seq)]` instead of `arr[seq]`. In the future this will be interpreted as an array index, `arr[np.array(seq)]`, which will result either in an error or a different result.\n",
      "  return np.add.reduce(sorted[indexer] * weights, axis=axis) / sumval\n"
     ]
    },
    {
     "data": {
      "image/png": "[encoded data removed]",
      "text/plain": [
       "<Figure size 1440x504 with 1 Axes>"
      ]
     },
     "metadata": {},
     "output_type": "display_data"
    }
   ],
   "source": [
    "# Visualize histogram of tokens per tweet\n",
    "g = sns.distplot(df.num_tokens)\n",
    "#g.set_xticklabels([])\n",
    "sns.despine(left=True, bottom=True)\n",
    "plt.xlabel('Number of Tokens')\n",
    "#plt.ylabel('Number of Tweets')\n",
    "plt.title('Number of Tokens per Tweet', fontsize=30)\n",
    "plt.tick_params(axis='x', which='major', labelsize=10)\n",
    "plt.show();"
   ]
  },
  {
   "cell_type": "markdown",
   "metadata": {},
   "source": [
    "### Part-of-Speech (POS) Tagging"
   ]
  },
  {
   "cell_type": "code",
   "execution_count": 7,
   "metadata": {},
   "outputs": [
    {
     "data": {
      "text/plain": [
       "I’m in the Oval Office. Democrats, come"
      ]
     },
     "execution_count": 7,
     "metadata": {},
     "output_type": "execute_result"
    }
   ],
   "source": [
    "# Get a tweet to use for sample output\n",
    "sample_doc = df.doc[5]\n",
    "sample_doc[0:10]"
   ]
  },
  {
   "cell_type": "code",
   "execution_count": 8,
   "metadata": {},
   "outputs": [
    {
     "name": "stdout",
     "output_type": "stream",
     "text": [
      "I PRON\n",
      "’m VERB\n",
      "in ADP\n",
      "the DET\n",
      "Oval PROPN\n",
      "Office PROPN\n",
      ". PUNCT\n",
      "Democrats PROPN\n",
      ", PUNCT\n",
      "come VERB\n"
     ]
    }
   ],
   "source": [
    "# Print sample of part-of-speech tags\n",
    "for token in sample_doc[0:10]:\n",
    "    print (token.text, token.pos_)"
   ]
  },
  {
   "cell_type": "markdown",
   "metadata": {},
   "source": [
    "### Named Entities"
   ]
  },
  {
   "cell_type": "code",
   "execution_count": 9,
   "metadata": {},
   "outputs": [
    {
     "name": "stdout",
     "output_type": "stream",
     "text": [
      "the Oval Office ORG\n",
      "Democrats NORP\n",
      "Wall FAC\n",
      "2006 DATE\n",
      "3013 DATE\n",
      "One CARDINAL\n"
     ]
    }
   ],
   "source": [
    "# Print named entities in sample tweet\n",
    "for ent in sample_doc.ents:\n",
    "    print(ent.text, ent.label_)"
   ]
  },
  {
   "cell_type": "code",
   "execution_count": 10,
   "metadata": {},
   "outputs": [
    {
     "name": "stdout",
     "output_type": "stream",
     "text": [
      "Nationalities or religious or political groups\n"
     ]
    }
   ],
   "source": [
    "# Print explaination for unknown entities\n",
    "print(spacy.explain('NORP'))"
   ]
  },
  {
   "cell_type": "code",
   "execution_count": 12,
   "metadata": {},
   "outputs": [
    {
     "data": {
      "text/html": [
       "<div class=\"entities\" style=\"line-height: 2.5\">I’m in \n",
       "<mark class=\"entity\" style=\"background: #7aecec; padding: 0.45em 0.6em; margin: 0 0.25em; line-height: 1; border-radius: 0.35em; box-decoration-break: clone; -webkit-box-decoration-break: clone\">\n",
       "    the Oval Office\n",
       "    <span style=\"font-size: 0.8em; font-weight: bold; line-height: 1; border-radius: 0.35em; text-transform: uppercase; vertical-align: middle; margin-left: 0.5rem\">ORG</span>\n",
       "</mark>\n",
       ". \n",
       "<mark class=\"entity\" style=\"background: #c887fb; padding: 0.45em 0.6em; margin: 0 0.25em; line-height: 1; border-radius: 0.35em; box-decoration-break: clone; -webkit-box-decoration-break: clone\">\n",
       "    Democrats\n",
       "    <span style=\"font-size: 0.8em; font-weight: bold; line-height: 1; border-radius: 0.35em; text-transform: uppercase; vertical-align: middle; margin-left: 0.5rem\">NORP</span>\n",
       "</mark>\n",
       ", come back from vacation now and give us the votes necessary for Border Security, including the \n",
       "<mark class=\"entity\" style=\"background: #ddd; padding: 0.45em 0.6em; margin: 0 0.25em; line-height: 1; border-radius: 0.35em; box-decoration-break: clone; -webkit-box-decoration-break: clone\">\n",
       "    Wall\n",
       "    <span style=\"font-size: 0.8em; font-weight: bold; line-height: 1; border-radius: 0.35em; text-transform: uppercase; vertical-align: middle; margin-left: 0.5rem\">FAC</span>\n",
       "</mark>\n",
       ". You voted yes in \n",
       "<mark class=\"entity\" style=\"background: #bfe1d9; padding: 0.45em 0.6em; margin: 0 0.25em; line-height: 1; border-radius: 0.35em; box-decoration-break: clone; -webkit-box-decoration-break: clone\">\n",
       "    2006\n",
       "    <span style=\"font-size: 0.8em; font-weight: bold; line-height: 1; border-radius: 0.35em; text-transform: uppercase; vertical-align: middle; margin-left: 0.5rem\">DATE</span>\n",
       "</mark>\n",
       " and \n",
       "<mark class=\"entity\" style=\"background: #bfe1d9; padding: 0.45em 0.6em; margin: 0 0.25em; line-height: 1; border-radius: 0.35em; box-decoration-break: clone; -webkit-box-decoration-break: clone\">\n",
       "    3013\n",
       "    <span style=\"font-size: 0.8em; font-weight: bold; line-height: 1; border-radius: 0.35em; text-transform: uppercase; vertical-align: middle; margin-left: 0.5rem\">DATE</span>\n",
       "</mark>\n",
       ". \n",
       "<mark class=\"entity\" style=\"background: #e4e7d2; padding: 0.45em 0.6em; margin: 0 0.25em; line-height: 1; border-radius: 0.35em; box-decoration-break: clone; -webkit-box-decoration-break: clone\">\n",
       "    One\n",
       "    <span style=\"font-size: 0.8em; font-weight: bold; line-height: 1; border-radius: 0.35em; text-transform: uppercase; vertical-align: middle; margin-left: 0.5rem\">CARDINAL</span>\n",
       "</mark>\n",
       " more yes, but with me in office, I’ll get it built, and Fast!</div>"
      ],
      "text/plain": [
       "<IPython.core.display.HTML object>"
      ]
     },
     "metadata": {},
     "output_type": "display_data"
    }
   ],
   "source": [
    "# Visualize named entities with displacy\n",
    "spacy.displacy.render(sample_doc, style='ent', jupyter=True)"
   ]
  },
  {
   "cell_type": "markdown",
   "metadata": {},
   "source": [
    "### Lemmatization"
   ]
  },
  {
   "cell_type": "code",
   "execution_count": null,
   "metadata": {},
   "outputs": [],
   "source": [
    "# Print sample of lemmas\n",
    "for token in sample_doc[11:30]:\n",
    "    print (token.text, token.lemma_)"
   ]
  }
 ],
 "metadata": {
  "kernelspec": {
   "display_name": "Python 3",
   "language": "python",
   "name": "python3"
  },
  "language_info": {
   "codemirror_mode": {
    "name": "ipython",
    "version": 3
   },
   "file_extension": ".py",
   "mimetype": "text/x-python",
   "name": "python",
   "nbconvert_exporter": "python",
   "pygments_lexer": "ipython3",
   "version": "3.6.9"
  }
 },
 "nbformat": 4,
 "nbformat_minor": 2
}
